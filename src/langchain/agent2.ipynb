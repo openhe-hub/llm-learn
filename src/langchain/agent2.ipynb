{
 "cells": [
  {
   "cell_type": "code",
   "execution_count": 4,
   "metadata": {},
   "outputs": [],
   "source": [
    "from dotenv import load_dotenv\n",
    "from langchain_openai import ChatOpenAI\n",
    "\n",
    "load_dotenv()\n",
    "\n",
    "llm = ChatOpenAI(model='gpt-4o')"
   ]
  },
  {
   "cell_type": "code",
   "execution_count": 5,
   "metadata": {},
   "outputs": [],
   "source": [
    "from langchain.agents import load_tools\n",
    "from langchain.agents import initialize_agent\n",
    "from langchain.agents import AgentType"
   ]
  },
  {
   "cell_type": "code",
   "execution_count": 7,
   "metadata": {},
   "outputs": [],
   "source": [
    "tools = load_tools([\"serpapi\", \"llm-math\"], llm=llm)"
   ]
  },
  {
   "cell_type": "code",
   "execution_count": 9,
   "metadata": {},
   "outputs": [],
   "source": [
    "import warnings\n",
    "warnings.filterwarnings(\"ignore\")\n",
    "\n",
    "agent = initialize_agent(tools, llm, agent=AgentType.ZERO_SHOT_REACT_DESCRIPTION, verbose=True)"
   ]
  },
  {
   "cell_type": "code",
   "execution_count": 18,
   "metadata": {},
   "outputs": [
    {
     "name": "stderr",
     "output_type": "stream",
     "text": [
      "Error in StdOutCallbackHandler.on_chain_start callback: AttributeError(\"'NoneType' object has no attribute 'get'\")\n"
     ]
    },
    {
     "name": "stdout",
     "output_type": "stream",
     "text": [
      "\u001b[32;1m\u001b[1;3m要回答这个问题，我需要知道今天的日期以及唐纳德·特朗普的出生日期（这是公开可用的信息）。然后，我可以计算他活了多少月，并对结果开平方根。\n",
      "\n",
      "首先，我需要知道今天的日期。\n",
      "\n",
      "Action: Search  \n",
      "Action Input: \"今天几号\"  \u001b[0m\n",
      "Observation: \u001b[36;1m\u001b[1;3mThursday, February 13, 2025\u001b[0m\n",
      "Thought:\u001b[32;1m\u001b[1;3m今天是2025年2月13日。接下来，我需要唐纳德·特朗普的出生日期，以计算他到目前为止活了多少个月。\n",
      "\n",
      "唐纳德·特朗普出生于1946年6月14日，这是公开信息。我可以用这些数据进行计算。\n",
      "\n",
      "Action: Calculator  \n",
      "Action Input: (2025 - 1946) * 12 + (2 - 6)  \u001b[0m\n",
      "Observation: \u001b[33;1m\u001b[1;3mAnswer: 944\u001b[0m\n",
      "Thought:\u001b[32;1m\u001b[1;3m唐纳德·特朗普到目前为止活了944个月。现在，我需要对这个结果开平方根。\n",
      "\n",
      "Action: Calculator  \n",
      "Action Input: 944 ** 0.5  \u001b[0m\n",
      "Observation: \u001b[33;1m\u001b[1;3mAnswer: 30.72458299147443\u001b[0m\n",
      "Thought:\u001b[32;1m\u001b[1;3m唐纳德·特朗普到目前为止已经活了944个月，对此结果开平方根得出30.72（约为两位小数）。  \n",
      "\n",
      "Final Answer: 今天是2025年2月13日，唐纳德·特朗普到目前为止活了944个月，开平方根的结果是30.72。\u001b[0m\n",
      "\n",
      "\u001b[1m> Finished chain.\u001b[0m\n"
     ]
    },
    {
     "data": {
      "text/plain": [
       "'今天是2025年2月13日，唐纳德·特朗普到目前为止活了944个月，开平方根的结果是30.72。'"
      ]
     },
     "execution_count": 18,
     "metadata": {},
     "output_type": "execute_result"
    }
   ],
   "source": [
    "agent.run(\"今天几号? 计算到目前为止特朗普活了多少月, 并开根号的结果?\")"
   ]
  },
  {
   "cell_type": "code",
   "execution_count": 15,
   "metadata": {},
   "outputs": [
    {
     "name": "stderr",
     "output_type": "stream",
     "text": [
      "Error in StdOutCallbackHandler.on_chain_start callback: AttributeError(\"'NoneType' object has no attribute 'get'\")\n"
     ]
    },
    {
     "name": "stdout",
     "output_type": "stream",
     "text": [
      "\u001b[32;1m\u001b[1;3m要回答关于今天上海的天气问题，我需要查找最新的天气信息。  \n",
      "Action: Search  \n",
      "Action Input: 今天上海天气  \n",
      "\u001b[0m\n",
      "Observation: \u001b[36;1m\u001b[1;3m{'type': 'weather_result', 'temperature': '49', 'unit': 'Fahrenheit', 'precipitation': '10%', 'humidity': '41%', 'wind': '8 mph', 'location': '中国上海市', 'date': 'Thursday', 'weather': 'Clear with periodic clouds'}\u001b[0m\n",
      "Thought:\u001b[32;1m\u001b[1;3m我已经查到最新的天气信息。  \n",
      "Final Answer: 今天上海的天气为晴朗间歇多云，气温为 49°F（约 9.4°C），降水概率 10%，湿度 41%，风速 8 英里每小时（约 12.87 公里每小时）。\u001b[0m\n",
      "\n",
      "\u001b[1m> Finished chain.\u001b[0m\n"
     ]
    },
    {
     "data": {
      "text/plain": [
       "'今天上海的天气为晴朗间歇多云，气温为 49°F（约 9.4°C），降水概率 10%，湿度 41%，风速 8 英里每小时（约 12.87 公里每小时）。'"
      ]
     },
     "execution_count": 15,
     "metadata": {},
     "output_type": "execute_result"
    }
   ],
   "source": [
    "agent.run('今天上海天气?')"
   ]
  }
 ],
 "metadata": {
  "kernelspec": {
   "display_name": "transformer-learn",
   "language": "python",
   "name": "python3"
  },
  "language_info": {
   "codemirror_mode": {
    "name": "ipython",
    "version": 3
   },
   "file_extension": ".py",
   "mimetype": "text/x-python",
   "name": "python",
   "nbconvert_exporter": "python",
   "pygments_lexer": "ipython3",
   "version": "3.8.18"
  }
 },
 "nbformat": 4,
 "nbformat_minor": 2
}
