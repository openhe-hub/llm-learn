{
 "cells": [
  {
   "cell_type": "code",
   "execution_count": 6,
   "metadata": {},
   "outputs": [],
   "source": [
    "from dotenv import load_dotenv\n",
    "from langchain_openai import ChatOpenAI\n",
    "\n",
    "load_dotenv()\n",
    "\n",
    "llm = ChatOpenAI(model='gpt-4o')"
   ]
  },
  {
   "cell_type": "code",
   "execution_count": 3,
   "metadata": {},
   "outputs": [],
   "source": [
    "from langchain.agents import load_tools\n",
    "from langchain.agents import initialize_agent\n",
    "from langchain.agents import AgentType"
   ]
  },
  {
   "cell_type": "code",
   "execution_count": 7,
   "metadata": {},
   "outputs": [],
   "source": [
    "tools = load_tools([\"llm-math\"], llm=llm)"
   ]
  },
  {
   "cell_type": "code",
   "execution_count": 9,
   "metadata": {},
   "outputs": [
    {
     "name": "stderr",
     "output_type": "stream",
     "text": [
      "Error in StdOutCallbackHandler.on_chain_start callback: AttributeError(\"'NoneType' object has no attribute 'get'\")\n"
     ]
    },
    {
     "name": "stdout",
     "output_type": "stream",
     "text": [
      "\u001b[32;1m\u001b[1;3mTo find the sum of 123 and 321, I will perform the addition.\n",
      "\n",
      "Action: Calculator\n",
      "Action Input: 123 + 321\u001b[0m\n",
      "Observation: \u001b[36;1m\u001b[1;3mAnswer: 444\u001b[0m\n",
      "Thought:\u001b[32;1m\u001b[1;3mI now know the final answer.  \n",
      "Final Answer: 444\u001b[0m\n",
      "\n",
      "\u001b[1m> Finished chain.\u001b[0m\n"
     ]
    },
    {
     "data": {
      "text/plain": [
       "'444'"
      ]
     },
     "execution_count": 9,
     "metadata": {},
     "output_type": "execute_result"
    },
    {
     "name": "stderr",
     "output_type": "stream",
     "text": [
      "Failed to multipart ingest runs: Connection error caused failure to POST https://api.smith.langchain.com/runs/multipart in LangSmith API. Please confirm your internet connection. ProxyError(MaxRetryError(\"HTTPSConnectionPool(host='api.smith.langchain.com', port=443): Max retries exceeded with url: /runs/multipart (Caused by ProxyError('Unable to connect to proxy', SSLError(SSLZeroReturnError(6, 'TLS/SSL connection has been closed (EOF) (_ssl.c:1131)'))))\"))\n",
      "Content-Length: 5966\n",
      "API Key: lsv2_********************************************7ctrace=2976d12c-2814-4cde-8650-6082fb883794,id=2976d12c-2814-4cde-8650-6082fb883794; trace=2976d12c-2814-4cde-8650-6082fb883794,id=aed3ccee-d646-4102-abaa-a9ef0e446560; trace=2976d12c-2814-4cde-8650-6082fb883794,id=c544719b-51c9-44cc-94b7-f2b86e13aa75\n",
      "Failed to multipart ingest runs: Connection error caused failure to POST https://api.smith.langchain.com/runs/multipart in LangSmith API. Please confirm your internet connection. ProxyError(MaxRetryError(\"HTTPSConnectionPool(host='api.smith.langchain.com', port=443): Max retries exceeded with url: /runs/multipart (Caused by ProxyError('Unable to connect to proxy', SSLError(SSLZeroReturnError(6, 'TLS/SSL connection has been closed (EOF) (_ssl.c:1131)'))))\"))\n",
      "Content-Length: 22789\n",
      "API Key: lsv2_********************************************7ctrace=2976d12c-2814-4cde-8650-6082fb883794,id=62c7ce75-2897-4ea4-aba7-2fc32f6266d6; trace=2976d12c-2814-4cde-8650-6082fb883794,id=1750ae52-fef9-40ae-85b0-663e86464c93; trace=2976d12c-2814-4cde-8650-6082fb883794,id=1b8263ac-5011-44f4-bb80-e4aaa51fc7c4; trace=2976d12c-2814-4cde-8650-6082fb883794,id=1eef113c-1e60-49ab-8ccc-0f2f7d558d4b; trace=2976d12c-2814-4cde-8650-6082fb883794,id=0e599bf7-8c4d-4734-a5bf-87c42941d518; trace=2976d12c-2814-4cde-8650-6082fb883794,id=8569d570-2829-4504-a57a-0d94184891fd; trace=2976d12c-2814-4cde-8650-6082fb883794,id=2976d12c-2814-4cde-8650-6082fb883794; trace=2976d12c-2814-4cde-8650-6082fb883794,id=aed3ccee-d646-4102-abaa-a9ef0e446560; trace=2976d12c-2814-4cde-8650-6082fb883794,id=c544719b-51c9-44cc-94b7-f2b86e13aa75\n"
     ]
    }
   ],
   "source": [
    "import warnings\n",
    "warnings.filterwarnings(\"ignore\")\n",
    "\n",
    "math_agent = initialize_agent(tools, llm, agent=AgentType.ZERO_SHOT_REACT_DESCRIPTION, verbose=True)\n",
    "math_agent.run(\"123+321=?\")"
   ]
  }
 ],
 "metadata": {
  "kernelspec": {
   "display_name": "transformer-learn",
   "language": "python",
   "name": "python3"
  },
  "language_info": {
   "codemirror_mode": {
    "name": "ipython",
    "version": 3
   },
   "file_extension": ".py",
   "mimetype": "text/x-python",
   "name": "python",
   "nbconvert_exporter": "python",
   "pygments_lexer": "ipython3",
   "version": "3.8.18"
  }
 },
 "nbformat": 4,
 "nbformat_minor": 2
}
