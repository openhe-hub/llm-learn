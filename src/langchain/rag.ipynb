{
 "cells": [
  {
   "cell_type": "code",
   "execution_count": 1,
   "metadata": {},
   "outputs": [
    {
     "data": {
      "text/plain": [
       "True"
      ]
     },
     "execution_count": 1,
     "metadata": {},
     "output_type": "execute_result"
    }
   ],
   "source": [
    "from dotenv import load_dotenv\n",
    "\n",
    "load_dotenv()"
   ]
  },
  {
   "cell_type": "code",
   "execution_count": 2,
   "metadata": {},
   "outputs": [],
   "source": [
    "from langchain_openai import ChatOpenAI\n",
    "\n",
    "llm = ChatOpenAI(model='gpt-4o')"
   ]
  },
  {
   "cell_type": "code",
   "execution_count": 4,
   "metadata": {},
   "outputs": [
    {
     "name": "stdout",
     "output_type": "stream",
     "text": [
      "12\n",
      "Course Description\n",
      "ECE4010J Probabilistic Methods\n",
      "in Engineering\n",
      "Spring 2025\n",
      "Hello and welcome to EC\n",
      "{'source': '../../assets/doc/ece4010j_syllabus_spring_2025.pdf', 'page': 0}\n"
     ]
    }
   ],
   "source": [
    "from langchain_community.document_loaders import PyPDFLoader\n",
    "\n",
    "file_path = '../../assets/doc/ece4010j_syllabus_spring_2025.pdf'\n",
    "loader = PyPDFLoader(file_path)\n",
    "docs = loader.load()\n",
    "\n",
    "print(len(docs))\n",
    "print(docs[0].page_content[0:100])\n",
    "print(docs[0].metadata)"
   ]
  },
  {
   "cell_type": "code",
   "execution_count": 6,
   "metadata": {},
   "outputs": [],
   "source": [
    "from langchain_core.vectorstores import InMemoryVectorStore\n",
    "from langchain_openai import OpenAIEmbeddings\n",
    "from langchain_text_splitters import RecursiveCharacterTextSplitter\n",
    "\n",
    "text_splitter = RecursiveCharacterTextSplitter(chunk_size=1000, chunk_overlap=200)\n",
    "splits = text_splitter.split_documents(docs)\n",
    "vector_store = InMemoryVectorStore.from_documents(\n",
    "    documents=splits, embedding=OpenAIEmbeddings()\n",
    ")\n",
    "retriever = vector_store.as_retriever()"
   ]
  },
  {
   "cell_type": "code",
   "execution_count": 7,
   "metadata": {},
   "outputs": [
    {
     "data": {
      "text/plain": [
       "{'input': 'Briefly introduce what 401 does',\n",
       " 'context': [Document(id='c9350101-92f3-4fb7-b006-34a156452326', metadata={'source': '../../assets/doc/ece4010j_syllabus_spring_2025.pdf', 'page': 2}, page_content='The technical course outcomesdefine a set of minimal skills or items of knowledge that you\\nshould feel confident in applying after completing ECE4010J. Naturally, the course will cover\\nmuch more than just the outcomes listed below. However, they represent a cross-section of basic\\nskills and are a useful guide to how well you have mastered the contents of the course in general.\\nA quantitative measurement of these outcomes will be provided byCourse Outcome Quizzes,\\nwhich will also contribute to the course grade. You will be also asked to report your subjective\\nimpression on attaining the outcomes in the Course Evaluation survey at the end of the term.\\nAfter completing ECE4010J, students should be able to:\\ni) Apply and interpret Bayes’s theorem correctly in a given context.\\nii) Calculate the Pearson correlation coefficient of two random variables.\\niii) Transform and perform basic calculations on random variables.'),\n",
       "  Document(id='19e61d5a-4764-4aad-a816-6c0e544ad3bd', metadata={'source': '../../assets/doc/ece4010j_syllabus_spring_2025.pdf', 'page': 0}, page_content='Course Description\\nECE4010J Probabilistic Methods\\nin Engineering\\nSpring 2025\\nHello and welcome to ECE4010J !\\nR. Munroe,Correlation, https://xkcd.com/552/\\nThis is a first course on probability and statistics;\\nno previous knowledge about these subjects is as-\\nsumed. But by the end of this term, you should\\nhave learned quite a few things; enough to read\\nand understand basic statistical methods used in\\nresearch articles.\\nOn a heuristic level, you will also have gained a clearer understanding of many popular mis-\\nconceptions regarding probability and statistics as well as a more critical mindset regarding\\ndata and claims people make about data. On a more concrete level, the course introduces the\\nbasic concepts necessary for further studies in data science, data analytics, machine learning,\\noptimization, etc.\\nFormally, this is a required course for students whose major is ECE, while it may be used as a'),\n",
       "  Document(id='6180fb02-8e21-4196-87e8-facfc9e11d46', metadata={'source': '../../assets/doc/ece4010j_syllabus_spring_2025.pdf', 'page': 3}, page_content='Course outcomes (soft skills)\\nThe soft-skill course outcomescontribute to your development as a scientist and critical thinker.\\nThey are not as directly graspable as technical skills, but in fact even more important. Devel-\\noping these skills will be of great benefit in your future academic career.\\nA quantitative measurement of these outcomes will be provided by theOnline Modules and\\nthe Term project. You will be also asked to report your subjective impression on attaining the\\noutcomes in the Course Evaluation survey at the end of the term.\\nAfter completing ECE4010J, students should be able to:\\ni) Understand and analyze the non-intuitive nature of probability.\\n(Online Module 1,3)\\nii) Apply probabilistic modeling to a real-life situation, taking into account\\nthe social impact and the historical background.\\n(Online Module 2,4)\\niii) Be aware of potential mis-uses and false interpretations and be able to\\nprovide the correct interpretation of a statistical output.\\n(Online Modules 5,6)'),\n",
       "  Document(id='5f48644f-14db-4295-9538-1672abbf0eb1', metadata={'source': '../../assets/doc/ece4010j_syllabus_spring_2025.pdf', 'page': 2}, page_content='Bloom’s taxonomy of learning, as shown\\non the left, gives a useful illustration of\\nthe stages of mastery. Overall, this course will develop your scientific thinking.\\nNext to providing technical skills, the course contributes to your whole-person education. There\\nare many so-called soft skills that you will develop or enhance: team work, critical thinking,\\nconsideration of the historical background and social impact of analytic methods, translation of\\nmathematical results into real-life answers, etc.\\nAnother important aspect is moral and social responsibility. You will be aware of how statistics\\ncan be used to deceive, both intentionally and unintentionally. We will discuss the implications\\nand dangers, as well as correct courses of action in dubious situations.\\nCourse outcomes (technical skills)\\nThe technical course outcomesdefine a set of minimal skills or items of knowledge that you\\nshould feel confident in applying after completing ECE4010J. Naturally, the course will cover')],\n",
       " 'answer': 'ECE4010J is a foundational course on probability and statistics designed for students with no prior knowledge in these subjects. It aims to equip students with technical skills such as applying Bayes’s theorem, calculating Pearson correlation coefficients, and transforming random variables. Additionally, the course develops soft skills like critical thinking, understanding the non-intuitive nature of probability, and the ability to interpret statistical outputs correctly, with an emphasis on moral and social responsibility.'}"
      ]
     },
     "execution_count": 7,
     "metadata": {},
     "output_type": "execute_result"
    }
   ],
   "source": [
    "from langchain.chains import create_retrieval_chain\n",
    "from langchain.chains.combine_documents import create_stuff_documents_chain\n",
    "from langchain_core.prompts import ChatPromptTemplate\n",
    "\n",
    "system_prompt = (\n",
    "    \"You are an assistant for question-answering tasks. \"\n",
    "    \"Use the following pieces of retrieved context to answer \"\n",
    "    \"the question. If you don't know the answer, say that you \"\n",
    "    \"don't know. Use three sentences maximum and keep the \"\n",
    "    \"answer concise.\"\n",
    "    \"\\n\\n\"\n",
    "    \"{context}\"\n",
    ")\n",
    "\n",
    "prompt = ChatPromptTemplate.from_messages(\n",
    "    [\n",
    "        (\"system\", system_prompt),\n",
    "        (\"human\", \"{input}\"),\n",
    "    ]\n",
    ")\n",
    "\n",
    "\n",
    "question_answer_chain = create_stuff_documents_chain(llm, prompt)\n",
    "rag_chain = create_retrieval_chain(retriever, question_answer_chain)\n",
    "\n",
    "results = rag_chain.invoke({\"input\": \"Briefly introduce what 401 does\"})\n",
    "\n",
    "results"
   ]
  }
 ],
 "metadata": {
  "kernelspec": {
   "display_name": "transformer-learn",
   "language": "python",
   "name": "python3"
  },
  "language_info": {
   "codemirror_mode": {
    "name": "ipython",
    "version": 3
   },
   "file_extension": ".py",
   "mimetype": "text/x-python",
   "name": "python",
   "nbconvert_exporter": "python",
   "pygments_lexer": "ipython3",
   "version": "3.8.18"
  }
 },
 "nbformat": 4,
 "nbformat_minor": 2
}
