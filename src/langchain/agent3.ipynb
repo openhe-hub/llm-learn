{
 "cells": [
  {
   "cell_type": "code",
   "execution_count": 1,
   "metadata": {},
   "outputs": [],
   "source": [
    "from dotenv import load_dotenv\n",
    "from langchain_openai import ChatOpenAI\n",
    "\n",
    "load_dotenv()\n",
    "\n",
    "llm = ChatOpenAI(model='gpt-4o')"
   ]
  },
  {
   "cell_type": "code",
   "execution_count": 3,
   "metadata": {},
   "outputs": [],
   "source": [
    "from langchain.agents import load_tools\n",
    "from langchain.agents import initialize_agent\n",
    "from langchain.agents import AgentType\n",
    "from langchain_experimental.agents.agent_toolkits.python.base import create_python_agent\n",
    "from langchain_experimental.tools.python.tool import PythonREPLTool\n",
    "\n",
    "agent = create_python_agent(\n",
    "    llm,  \n",
    "    tool=PythonREPLTool(),\n",
    "    verbose=True\n",
    ")"
   ]
  },
  {
   "cell_type": "code",
   "execution_count": 7,
   "metadata": {},
   "outputs": [
    {
     "name": "stderr",
     "output_type": "stream",
     "text": [
      "Error in StdOutCallbackHandler.on_chain_start callback: AttributeError(\"'NoneType' object has no attribute 'get'\")\n"
     ]
    },
    {
     "name": "stdout",
     "output_type": "stream",
     "text": [
      "\u001b[32;1m\u001b[1;3mTo check if CUDA is available on this computer, I need to use the `torch` library from PyTorch, which provides a function to check CUDA availability.\n",
      "\n",
      "Action: Python_REPL\n",
      "Action Input: \n",
      "```python\n",
      "import torch\n",
      "print(torch.cuda.is_available())\n",
      "```\u001b[0m\n",
      "Observation: \u001b[36;1m\u001b[1;3mModuleNotFoundError(\"No module named 'torch'\")\u001b[0m\n",
      "Thought:\u001b[32;1m\u001b[1;3mIt seems that the `torch` library is not installed in the current environment, so I'm unable to check for CUDA availability using PyTorch. \n",
      "\n",
      "Final Answer: I don't know.\u001b[0m\n",
      "\n",
      "\u001b[1m> Finished chain.\u001b[0m\n"
     ]
    },
    {
     "data": {
      "text/plain": [
       "\"I don't know.\""
      ]
     },
     "execution_count": 7,
     "metadata": {},
     "output_type": "execute_result"
    }
   ],
   "source": [
    "agent.run(\"请你帮我检查这台电脑有没有可用的cuda\")"
   ]
  },
  {
   "cell_type": "code",
   "execution_count": 8,
   "metadata": {},
   "outputs": [
    {
     "name": "stderr",
     "output_type": "stream",
     "text": [
      "Error in StdOutCallbackHandler.on_chain_start callback: AttributeError(\"'NoneType' object has no attribute 'get'\")\n"
     ]
    },
    {
     "name": "stdout",
     "output_type": "stream",
     "text": [
      "\u001b[32;1m\u001b[1;3mTo answer this question, I need to write Python code to list the files in the current directory and create a backup of the directory as `backup.zip`. I will first list the files and then create the ZIP archive.\n",
      "\n",
      "Action: Python_REPL\n",
      "Action Input:\n",
      "```python\n",
      "import os\n",
      "import zipfile\n",
      "\n",
      "# List files in the current directory\n",
      "files_and_dirs = os.listdir('.')\n",
      "print(\"Files and directories in the current directory:\", files_and_dirs)\n",
      "\n",
      "# Create a ZIP file to back up the current directory\n",
      "backup_zip = zipfile.ZipFile('backup.zip', 'w', zipfile.ZIP_DEFLATED)\n",
      "\n",
      "for root, dirs, files in os.walk('.'):\n",
      "    for file in files:\n",
      "        filepath = os.path.join(root, file)\n",
      "        # Add each file to the ZIP archive\n",
      "        backup_zip.write(filepath, os.path.relpath(filepath, '.'))\n",
      "\n",
      "backup_zip.close()\n",
      "print(\"Backup created as backup.zip\")\n",
      "```\u001b[0m\n",
      "Observation: \u001b[36;1m\u001b[1;3mFiles and directories in the current directory: ['agent.ipynb', 'agent2.ipynb', 'agent3.ipynb', 'doc_qa.ipynb', 'llm_chains.ipynb', 'memory.ipynb', 'template_prompt.py', 'test_langchain.py']\n",
      "Backup created as backup.zip\n",
      "\u001b[0m\n",
      "Thought:\u001b[32;1m\u001b[1;3mI successfully listed the files in the current directory and created a backup of the directory as `backup.zip`.\n",
      "\n",
      "Final Answer: The files in the current directory are ['agent.ipynb', 'agent2.ipynb', 'agent3.ipynb', 'doc_qa.ipynb', 'llm_chains.ipynb', 'memory.ipynb', 'template_prompt.py', 'test_langchain.py']. A backup has been created as `backup.zip`.\u001b[0m\n",
      "\n",
      "\u001b[1m> Finished chain.\u001b[0m\n"
     ]
    },
    {
     "data": {
      "text/plain": [
       "\"The files in the current directory are ['agent.ipynb', 'agent2.ipynb', 'agent3.ipynb', 'doc_qa.ipynb', 'llm_chains.ipynb', 'memory.ipynb', 'template_prompt.py', 'test_langchain.py']. A backup has been created as `backup.zip`.\""
      ]
     },
     "execution_count": 8,
     "metadata": {},
     "output_type": "execute_result"
    }
   ],
   "source": [
    "agent.run(\"通过python, 列出本目录下的文件信息, 并将文件夹备份成backup.zip\")"
   ]
  }
 ],
 "metadata": {
  "kernelspec": {
   "display_name": "transformer-learn",
   "language": "python",
   "name": "python3"
  },
  "language_info": {
   "codemirror_mode": {
    "name": "ipython",
    "version": 3
   },
   "file_extension": ".py",
   "mimetype": "text/x-python",
   "name": "python",
   "nbconvert_exporter": "python",
   "pygments_lexer": "ipython3",
   "version": "3.8.18"
  }
 },
 "nbformat": 4,
 "nbformat_minor": 2
}
